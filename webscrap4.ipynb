{
  "nbformat": 4,
  "nbformat_minor": 0,
  "metadata": {
    "colab": {
      "provenance": [],
      "authorship_tag": "ABX9TyP/Vw4Hec499Eb22s7Lo6y0",
      "include_colab_link": true
    },
    "kernelspec": {
      "name": "python3",
      "display_name": "Python 3"
    },
    "language_info": {
      "name": "python"
    }
  },
  "cells": [
    {
      "cell_type": "markdown",
      "metadata": {
        "id": "view-in-github",
        "colab_type": "text"
      },
      "source": [
        "<a href=\"https://colab.research.google.com/github/ambali111/WebScraping/blob/main/webscrap4.ipynb\" target=\"_parent\"><img src=\"https://colab.research.google.com/assets/colab-badge.svg\" alt=\"Open In Colab\"/></a>"
      ]
    },
    {
      "cell_type": "code",
      "execution_count": 37,
      "metadata": {
        "colab": {
          "base_uri": "https://localhost:8080/"
        },
        "id": "vidFpzXUyzPX",
        "outputId": "1fa977d4-22ce-43a6-92e2-9efeffef21ea"
      },
      "outputs": [
        {
          "output_type": "stream",
          "name": "stdout",
          "text": [
            "Requirement already satisfied: newspaper3k in /usr/local/lib/python3.10/dist-packages (0.2.8)\n",
            "Requirement already satisfied: beautifulsoup4>=4.4.1 in /usr/local/lib/python3.10/dist-packages (from newspaper3k) (4.11.2)\n",
            "Requirement already satisfied: Pillow>=3.3.0 in /usr/local/lib/python3.10/dist-packages (from newspaper3k) (8.4.0)\n",
            "Requirement already satisfied: PyYAML>=3.11 in /usr/local/lib/python3.10/dist-packages (from newspaper3k) (6.0)\n",
            "Requirement already satisfied: cssselect>=0.9.2 in /usr/local/lib/python3.10/dist-packages (from newspaper3k) (1.2.0)\n",
            "Requirement already satisfied: lxml>=3.6.0 in /usr/local/lib/python3.10/dist-packages (from newspaper3k) (4.9.3)\n",
            "Requirement already satisfied: nltk>=3.2.1 in /usr/local/lib/python3.10/dist-packages (from newspaper3k) (3.8.1)\n",
            "Requirement already satisfied: requests>=2.10.0 in /usr/local/lib/python3.10/dist-packages (from newspaper3k) (2.27.1)\n",
            "Requirement already satisfied: feedparser>=5.2.1 in /usr/local/lib/python3.10/dist-packages (from newspaper3k) (6.0.10)\n",
            "Requirement already satisfied: tldextract>=2.0.1 in /usr/local/lib/python3.10/dist-packages (from newspaper3k) (3.4.4)\n",
            "Requirement already satisfied: feedfinder2>=0.0.4 in /usr/local/lib/python3.10/dist-packages (from newspaper3k) (0.0.4)\n",
            "Requirement already satisfied: jieba3k>=0.35.1 in /usr/local/lib/python3.10/dist-packages (from newspaper3k) (0.35.1)\n",
            "Requirement already satisfied: python-dateutil>=2.5.3 in /usr/local/lib/python3.10/dist-packages (from newspaper3k) (2.8.2)\n",
            "Requirement already satisfied: tinysegmenter==0.3 in /usr/local/lib/python3.10/dist-packages (from newspaper3k) (0.3)\n",
            "Requirement already satisfied: soupsieve>1.2 in /usr/local/lib/python3.10/dist-packages (from beautifulsoup4>=4.4.1->newspaper3k) (2.4.1)\n",
            "Requirement already satisfied: six in /usr/local/lib/python3.10/dist-packages (from feedfinder2>=0.0.4->newspaper3k) (1.16.0)\n",
            "Requirement already satisfied: sgmllib3k in /usr/local/lib/python3.10/dist-packages (from feedparser>=5.2.1->newspaper3k) (1.0.0)\n",
            "Requirement already satisfied: click in /usr/local/lib/python3.10/dist-packages (from nltk>=3.2.1->newspaper3k) (8.1.4)\n",
            "Requirement already satisfied: joblib in /usr/local/lib/python3.10/dist-packages (from nltk>=3.2.1->newspaper3k) (1.3.1)\n",
            "Requirement already satisfied: regex>=2021.8.3 in /usr/local/lib/python3.10/dist-packages (from nltk>=3.2.1->newspaper3k) (2022.10.31)\n",
            "Requirement already satisfied: tqdm in /usr/local/lib/python3.10/dist-packages (from nltk>=3.2.1->newspaper3k) (4.65.0)\n",
            "Requirement already satisfied: urllib3<1.27,>=1.21.1 in /usr/local/lib/python3.10/dist-packages (from requests>=2.10.0->newspaper3k) (1.26.16)\n",
            "Requirement already satisfied: certifi>=2017.4.17 in /usr/local/lib/python3.10/dist-packages (from requests>=2.10.0->newspaper3k) (2023.5.7)\n",
            "Requirement already satisfied: charset-normalizer~=2.0.0 in /usr/local/lib/python3.10/dist-packages (from requests>=2.10.0->newspaper3k) (2.0.12)\n",
            "Requirement already satisfied: idna<4,>=2.5 in /usr/local/lib/python3.10/dist-packages (from requests>=2.10.0->newspaper3k) (3.4)\n",
            "Requirement already satisfied: requests-file>=1.4 in /usr/local/lib/python3.10/dist-packages (from tldextract>=2.0.1->newspaper3k) (1.5.1)\n",
            "Requirement already satisfied: filelock>=3.0.8 in /usr/local/lib/python3.10/dist-packages (from tldextract>=2.0.1->newspaper3k) (3.12.2)\n"
          ]
        }
      ],
      "source": [
        "!pip  install newspaper3k"
      ]
    },
    {
      "cell_type": "code",
      "source": [
        "import nltk\n",
        "nltk.download('punkt')"
      ],
      "metadata": {
        "colab": {
          "base_uri": "https://localhost:8080/"
        },
        "id": "EuxQ9ZbIzrsZ",
        "outputId": "5a21dd08-6044-41b3-8f29-68aff7757eea"
      },
      "execution_count": 38,
      "outputs": [
        {
          "output_type": "stream",
          "name": "stderr",
          "text": [
            "[nltk_data] Downloading package punkt to /root/nltk_data...\n",
            "[nltk_data]   Package punkt is already up-to-date!\n"
          ]
        },
        {
          "output_type": "execute_result",
          "data": {
            "text/plain": [
              "True"
            ]
          },
          "metadata": {},
          "execution_count": 38
        }
      ]
    },
    {
      "cell_type": "code",
      "source": [
        "#Importing  all the libraries\n",
        "\n",
        "from bs4 import BeautifulSoup\n",
        "from newspaper import Article\n",
        "import requests     #\n",
        "import re           #regular expression for extracting integer values from a text"
      ],
      "metadata": {
        "id": "T21WqCqszsoB"
      },
      "execution_count": 39,
      "outputs": []
    },
    {
      "cell_type": "code",
      "source": [
        "url = 'https://news.ycombinator.com/news'\n",
        "req = requests.get(url)\n",
        "\n",
        "content = req.text\n",
        "\n",
        "#content\n",
        "\n",
        "soup = BeautifulSoup(content)\n",
        "\n",
        "#print(soup.prettify)"
      ],
      "metadata": {
        "id": "pdaIgVEi0G3i"
      },
      "execution_count": 40,
      "outputs": []
    },
    {
      "cell_type": "code",
      "source": [
        "titleline = soup.find_all(class_=\"titleline\")\n",
        "\n",
        "#titleline\n"
      ],
      "metadata": {
        "id": "2Yd4xyTx1wSh"
      },
      "execution_count": 41,
      "outputs": []
    },
    {
      "cell_type": "code",
      "source": [
        "print(type(soup.title))\n",
        "print(type(titleline))\n"
      ],
      "metadata": {
        "colab": {
          "base_uri": "https://localhost:8080/"
        },
        "id": "AdGpv64Q2ANf",
        "outputId": "918fdd33-867e-4dde-eaec-c5257b37ac1a"
      },
      "execution_count": 42,
      "outputs": [
        {
          "output_type": "stream",
          "name": "stdout",
          "text": [
            "<class 'bs4.element.Tag'>\n",
            "<class 'bs4.element.ResultSet'>\n"
          ]
        }
      ]
    },
    {
      "cell_type": "code",
      "source": [
        "#getting the links of titleline class\n",
        "\n",
        "hrefs = soup.find_all(class_='titleline')\n",
        "\n",
        "#find first link\n",
        "#print (hrefs[0].find('a')['href'])\n",
        "\n",
        "# making list of links of each post\n",
        "\n",
        "list1 = []\n",
        "for tag in hrefs:\n",
        "    list1.append(tag.find('a', href = True)['href'])\n",
        "print(list1)\n"
      ],
      "metadata": {
        "colab": {
          "base_uri": "https://localhost:8080/"
        },
        "id": "YZIzU_OF2ZLP",
        "outputId": "a31a5559-6f2d-4a7f-8e23-b19ee58232d6"
      },
      "execution_count": 61,
      "outputs": [
        {
          "output_type": "stream",
          "name": "stdout",
          "text": [
            "['https://www.nature.com/articles/d41586-023-02374-2', 'https://primocms.org', 'https://andreabergia.com/blog/2023/07/i-have-written-a-jvm-in-rust/', 'https://home.cern/news/news/accelerators/accelerator-report-quench-lhc-inner-triplet-magnet-causes-small-leak-major', 'https://webcache.googleusercontent.com/search?q=cache:2T9NpG8thZgJ:https://community.fly.io/t/service-interruption-cant-destroy-machine-deploy-or-restart/14227&cd=9&hl=en&ct=clnk&gl=au', 'https://nathanpeck.com/rethinking-infrastructure-as-code-from-scratch/', 'item?id=36812981', 'https://www.foldnfly.com/runway.php', 'https://commoncog.com/seeing-expertise-milestone-worth-aiming-for/', 'http://www.zannzen.com/blog/small_joys_with_odin_1/', 'https://www.nytimes.com/2023/07/20/magazine/family-genetics-frontotemporal-dementia.html', 'https://github.com/metabase/metabase/releases/tag/v0.46.6.1', 'https://www.evanjones.ca/nanosecond-collisions.html', 'https://vercel.com/blog/how-turborepo-is-porting-from-go-to-rust?nxtPslug=how-turborepo-is-porting-from-go-to-rust', 'https://www.whitehouse.gov/briefing-room/statements-releases/2023/07/21/fact-sheet-biden-harris-administration-secures-voluntary-commitments-from-leading-artificial-intelligence-companies-to-manage-the-risks-posed-by-ai/', 'https://phys.org/news/2023-07-regular-phubbing-marriages.html', 'https://www.nytimes.com/2023/07/21/us/politics/ai-regulation-biden.html', 'https://acko.net/blog/subpixel-distance-transform/', 'https://blog.jgc.org/2023/07/revisiting-cansole-my-silly-pong-game.html', 'https://www.theverge.com/2023/7/21/23802742/roblox-data-breach-leak-developer-personal-information-exposed', 'https://www.federalreserve.gov/newsevents/pressreleases/other20230720a.htm', 'item?id=36813858', 'https://llmconstellation.olafblitz.repl.co/', 'https://www.theguardian.com/film/2023/jul/03/anton-corbijn-hipgnosis-film-pink-floyd-led-zeppelin', 'https://www.vox.com/2015/3/5/8150929/momofuku-ando-ramen-instant-noodles', 'https://news.unl.edu/newsrooms/today/article/nebraska-study-finds-billions-of-nanoplastics-released-when-microwaving/', 'https://en.wikipedia.org/wiki/Proofs_from_THE_BOOK', 'https://www.linyangchen.com/Typography-Fell-Types-font', 'https://computinged.wordpress.com/2023/07/17/what-humanities-scholars-want-students-to-know-about-the-internet-alternative-paths-for-alternative-endpoints/', 'https://github.com/bartobri/no-more-secrets']\n"
          ]
        }
      ]
    },
    {
      "cell_type": "code",
      "source": [
        "#getting the news headlines (text) from the titleline\n",
        "ltext=[]\n",
        "links_span = soup.find_all('span',\"titleline\")\n",
        "for span in links_span:\n",
        "\n",
        "  ltext.append(span.text)\n",
        "print(ltext)"
      ],
      "metadata": {
        "colab": {
          "base_uri": "https://localhost:8080/"
        },
        "id": "IHtXyPDa275o",
        "outputId": "1c674759-5048-4943-8b71-59fef2a68594"
      },
      "execution_count": 44,
      "outputs": [
        {
          "output_type": "stream",
          "name": "stdout",
          "text": [
            "['Dementia risk linked to blood-protein imbalance in middle age (nature.com)', 'Show HN: Primo – a visual CMS with Svelte blocks, a code editor, and SSG (primocms.org)', 'I have written a JVM in Rust (andreabergia.com)', 'Quench of LHC inner triplet magnet causes a small leak with major consequences (home.cern)', 'Fly.io Postgres cluster down for 3 days, no word from them about it (googleusercontent.com)', 'Rethinking Infrastructure as Code from Scratch (nathanpeck.com)', 'Show HN: A non-VC backed content creation and social media platform', 'Paper Airplane Ideas and Tips (foldnfly.com)', 'Ability to see expertise is a milestone worth aiming for (2022) (commoncog.com)', 'Small Joys with Odin (zannzen.com)', 'The Vanishing Family: Life in the Shadow of a Cruel Genetic Mutation (nytimes.com)', 'Tell HN: Upgrade your Metabase installation immediately (github.com/metabase)', 'Nanosecond timestamp collisions are common (evanjones.ca)', 'How Turborepo is porting from Go to Rust (vercel.com)', 'White House Secures Commitments from Leading AI Companies to Manage AI Risks (whitehouse.gov)', \"Study finds regular 'phubbing' could be damaging marriages (phys.org)\", 'A.I. Companies Agree to Safeguards After Pressure from the White House (nytimes.com)', 'Sub-Pixel Distance Transform (acko.net)', \"Revisiting the “Cansole”, because my TV doesn't have the right connectors (jgc.org)\", 'Data breach exposes personal information of 4k Roblox developers (theverge.com)', 'FedNow Is Live (federalreserve.gov)', \"Ask HN: Do Agile 'Sprints' Benefit Software Developers?\", 'LLM Constellation (repl.co)', 'Hipgnosis, the designers who changed the record sleeve (theguardian.com)', 'Momofuku Ando invented instant ramen (2016) (vox.com)', 'Study finds billions of nanoplastics released when microwaving containers (unl.edu)', 'Proofs from the Book (wikipedia.org)', 'A 17th-century font in a 21st-century thesis (linyangchen.com)', 'What humanities scholars want students to know about the internet (computinged.wordpress.com)', 'No-more-secrets: recreate the decryption effect seen in the 1992 movie Sneakers (github.com/bartobri)']\n"
          ]
        }
      ]
    },
    {
      "cell_type": "code",
      "source": [
        "#getting the upvotes for each post\n",
        "\n",
        "spans=soup.find_all('span',\"score\")\n",
        "list2=[]\n",
        "for span in spans:\n",
        "  list2.append(int(''.join(filter(str.isdigit,span.text) )))\n",
        "print(list2)\n"
      ],
      "metadata": {
        "colab": {
          "base_uri": "https://localhost:8080/"
        },
        "id": "4toGPq8T3UUC",
        "outputId": "d6a4881b-1f52-4d8f-b681-8de7afdc7257"
      },
      "execution_count": 45,
      "outputs": [
        {
          "output_type": "stream",
          "name": "stdout",
          "text": [
            "[79, 104, 325, 152, 696, 35, 21, 90, 143, 54, 9, 105, 161, 16, 35, 22, 43, 106, 48, 40, 1074, 11, 46, 80, 94, 358, 44, 414, 36, 945]\n"
          ]
        }
      ]
    },
    {
      "cell_type": "markdown",
      "source": [
        "scraping summary\n"
      ],
      "metadata": {
        "id": "MCYkS3i52cwW"
      }
    },
    {
      "cell_type": "code",
      "source": [
        "#list1[0]  first link from the links list\n",
        "for k in list1:\n",
        "  article=Article(k)"
      ],
      "metadata": {
        "id": "MXMYkRSX2hB1"
      },
      "execution_count": 46,
      "outputs": []
    },
    {
      "cell_type": "code",
      "source": [
        "# getting summary of each link\n",
        "\n",
        "summ = []\n",
        "for k in list1:\n",
        "  if k[:5] == 'https':\n",
        "    article = Article(k)\n",
        "    article.download()\n",
        "    article.parse()\n",
        "    article.nlp()\n",
        "    article.text\n",
        "    summ.append(article.summary)\n",
        "print(summ)"
      ],
      "metadata": {
        "colab": {
          "base_uri": "https://localhost:8080/"
        },
        "id": "GuS9AKGJ4rSJ",
        "outputId": "f6061b8c-9b4a-481b-a832-5ae9c4e77954"
      },
      "execution_count": 62,
      "outputs": [
        {
          "output_type": "stream",
          "name": "stdout",
          "text": [
            "['Abnormal levels of certain proteins — many of which have roles outside the brain — could be an early hallmark of Alzheimer’s disease or similar conditions.\\nThey searched for any signs of dysregulation — when proteins are at levels much higher or lower than normal.\\nParticipants returned for examination six times over three decades, and during this time, around 1 in 5 of them developed dementia.\\nWalker says that although a person’s proteome by itself cannot predict their risk of getting dementia, it could perhaps bolster the strength of existing predictors — such as age and family history.\\nA handful were linked to proteostasis — the process of carefully balancing protein levels in the proteome.', 'Primo is under full-time development and is in the process of becoming a nonprofit organization.\\nAny funds generated from White Glove and Cloud will go towards funding further development, in the same vein as Ghost CMS.', 'I have written a JVM in Rust Published Wednesday, Jul 12, 2023 - 2164 words, 11 minutes Tagged:Lately I’ve been spending quite a bit of time learning Rust, and as any sane person would do, after writing a few 100 lines programs I’ve decided to take on something a little bit more ambitious: I have written a Java Virtual Machine in Rust.\\nI am very happy with what I have learned, about Rust and about how to implement a virtual machine.\\nAfter resolving the correct instruction, rjvm will add a new frame to the call stack and start the method’s execution.\\nThe method’s return value will be pushed to the stack unless it is void , and execution will resume.\\nI think it is a great language, as I have written before, and I have really enjoyed using it for implementing my JVM!', 'Approximately 300 milliseconds after the beams were cleanly dumped, several superconducting magnets around the LHC quenched – i.e.\\nAmong these magnets were the inner triplet magnets located to the left of Point 8 (LHCb), which play a crucial role in focusing the beams for the LHCb experiment.\\nIn this particular case, the electrical perturbation caused the quench protection system (QPS) to trigger the quench heaters of the magnets concerned.\\nThe cryostat containing the inner triplet magnets.\\nNevertheless, it is clear that an intervention with the inner triplet magnet at room temperature will be required.', 'Hey team, the health checks on our fly app were failing this morning and so I’ve logged in to diagnose this.\\nI can’t see an issue on the status page and not sure where else to look for resolution steps or ETA?\\nI’m unable to restart or destroy the stopped machine instances (it times out), and trying to re-deploy the app throws an error:Error: found 1 machines that are unmanaged.\\n`fly deploy` only updates machines with fly_platform_version=v2 in their metadata.\\nUse `fly machine list` to list machines and `fly machine update --metadata fly_platform_version=v2 <machine id>` to update individual machines with the metadata.', 'Rethinking infrastructure as code from scratchRecently I’ve been thinking a lot about infrastructure complexity, and the current state of infrastructure as code.\\nRethinking infrastructure as code declarationsWhat if we rethought infrastructure as code from scratch, scrapped most of our current assumptions and “best practices” about how resources should be declaratively defined, and started from how we think about infrastructure in human terms?\\nEach scenario starts from a base infrastructure as code state and then attaches a set of mutations that modify or insert properties across your infrastructure as code resources.\\nHowever you will note that there is a missing piece here, and that is that this sample YAML approach works okay for attaching adjectives to an existing infrastructure as code resource, but it does not work well for attaching nouns to an existing infrastructure as code resource.\\nBut most of all we need to build Bootstrap or Tailwind for infrastructure as code: a standard library of reusable infrastructure as code property mutations that can be layered on to your infrastructure in a way that you want.', 'Paper ClipsThe center of mass is where the paper plane balances from front to back.\\nIf the center of mass is too far forwards, the paper airplane will dive.\\nToo far back and it will rise and stall.\\nTry using a small paper clip, or staple, to adjust the center of mass to your liking.', 'One of the inconvenient facts of expertise is that experts can see more gradients of expertise than novices can.\\nNote that the vocab point isn’t mastery — it marks, I think, the beginning of advanced proficiency.\\nI talk about sports and music because it’s easier to observe the vocab point in those domains.\\nProblems with the Vocab PointI think one mistaken takeaway from this essay is that the vocab point is necessarily about articulation.\\nThis leads us to another potential failure mode of the vocab point: what if you’re noticing spurious nuance?', 'Those who do will develop FTD, and they pass along that same 50 percent risk to each of their children.\\nIt’s a devastating feeling — that I may have passed something to them that could hurt them.”Even now, many in the family struggle with how to explain the impossible situation they’ve found themselves in.\\nOnce the researchers found the mutation, they encouraged each family member to test at an independent lab to learn who carried it.\\nEveryone in the family could discover which side of the coin flip they landed.\\nTurn the other, and you still have to say goodbye, slowly, to some of the people you love the most.', 'Upgrade your Metabase installation IMMEDIATELY.\\nA recently discovered security vulnerability almost certainly affects you, and we recommend you upgrade your Metabase Installation right away.\\nUpgradingYou can download a .jar of the release, or get the latest on Docker.\\nMake sure to back up your Metabasedatabase before you upgrade!\\nDocker image: metabase/metabase:v0.46.6.1Download the JAR here: https://downloads.metabase.com/v0.46.6.1/metabase.jarNotesSHA-256 checksum for the v0.46.6.1 JAR:', 'As a result, I think it is unsafe to assume that a raw nanosecond timestamp is a unique identifier.\\nOn Linux, within a single thread, both the absolute and monotonic times always increase.\\nBetween threads, approximately 5% of the absolute times were exactly the same as other threads.\\nOn Mac OS X: the absolute time has microsecond resolution, so there are an astronomical number of collisions when I repeat this same test.\\nEven within a thread I often observe the monotonic clock not increment.', 'In a previous blog post, we talked about why we are porting Turborepo, the high-performance build system for JavaScript and TypeScript, from Go to Rust.\\nHere’s how we started the process, validated our current porting strategy, and made the call to port Turborepo to Rust.\\nIn our case, this means we need to have our Go code and Rust code interoperating with each other.\\nWe wanted to make sure that any new Rust code was properly exercised as we moved through our porting effort.\\nThis feature is implemented through what we started calling \"the Rust shim,\" a bit of Rust code that wraps the existing Go code.', 'The companies commit to sharing information across the industry and with governments, civil society, and academia on managing AI risks.\\nThe companies commit to publicly reporting their AI systems’ capabilities, limitations, and areas of appropriate and inappropriate use.\\nThis report will cover both security risks and societal risks, such as the effects on fairness and bias.\\nThis report will cover both security risks and societal risks, such as the effects on fairness and bias.\\nThe companies commit to develop and deploy advanced AI systems to help address society’s greatest challenges.', 'In their study, reported in the journal Computers in Human Behavior, Suat Kılıçarslan and İzzet Parmaksız sent questionnaires to married couples in Turkey and compiled results from those that were returned.\\nThe researchers found a pattern—couples who reported more phubbing in their home also reported less satisfaction in their marriage.\\nThey do note that the problem is easily fixed: married couples can try turning off their phones more often.\\nMore information: Suat Kılıçarslan et al, The mediator role of effective communication skills on the relationship between phubbing tendencies and marriage satisfaction in married individuals, Computers in Human Behavior (2023).\\nDOI: 10.1016/j.chb.2023.107863 Journal information: Computers in Human Behavior© 2023 Science X Network', 'Seven leading A.I.\\ncompanies in the United States have agreed to voluntary safeguards on the technology’s development, the White House announced on Friday, pledging to strive for safety, security and trust even as they compete over the potential of artificial intelligence.\\nThe seven companies — Amazon, Anthropic, Google, Inflection, Meta, Microsoft and OpenAI — will formally announce their commitment to the new standards at a meeting with President Biden at the White House on Friday afternoon.\\nThe announcement comes as the companies are racing to outdo each other with versions of A.I.\\nNick Clegg, the president of global affairs at Meta, said in a statement that his company supports the safeguards developed by the White House.', 'I was always a big fan of the 3x1 subpixel rendering used on color LCDs (i.e.\\nEven without RGB subpixels, gamma correct AA looks great.\\n* * *If you want to make SDFs from existing input data, subpixel accuracy is crucial.\\nIt might seem pretty obvious in hindsight, but there is a massive difference between getting it sort of working, and actually getting all the details right.\\nThere were many false starts and dead ends, because subpixel accuracy also means one bad pixel ruins it.', 'Over 20 years I wrote some code to scratch an itch.\\nThe specific itch was that I was getting a lot of email and I wanted it to be automatica...', 'Sensitive information identifying thousands of Roblox creators has been exposed following a data breach impacting attendees at a conference for Roblox developers, which allegedly remained undisclosed by the company for at least two years.\\nAs reported by PC Gamer, the leak contains personal information from people who attended the Roblox Developer Conference between 2017-2020, including names, usernames, date of birth, physical addresses, email addresses, IP addresses, phone numbers, and even T-shirt sizes.\\n“Roblox is aware of a third-party security issue where there were indications of unauthorized access to limited personal information of a subset of our creator community,” said a Roblox spokesperson to PC Gamer.\\n“We engaged independent experts to support the investigation led by our information security team.\\nAs noted by PC Gamer, the identifying data leaked opens up individuals to all sorts of scams and harassment, including identity theft.', 'The Federal Reserve on Thursday announced that its new system for instant payments, the FedNow® Service, is now live.\\n\"The Federal Reserve built the FedNow Service to help make everyday payments over the coming years faster and more convenient,\" said Federal Reserve Chair Jerome H. Powell.\\nTo start, 35 early-adopting banks and credit unions, as well as the U.S. Department of the Treasury\\'s Bureau of the Fiscal Service, are ready with instant payments capabilities via the FedNow Service.\\nAs an interbank payment system, the FedNow Service operates alongside other longstanding Federal Reserve payment services such as Fedwire® and FedACH®.\\nAdditional information is available on the Federal Reserve Financial Services website.', '', '“Squaring the Circle means doing the impossible,” he says, “but it also represents the circular record going into a sleeve.” Doing the impossible is only a slight exaggeration.\\n“There was an enormous amount of goodwill towards Hipgnosis,” Corbijn says.\\n“People just wanted to make it [the movie] work.\\nAnd Noel Gallagher provides useful insight as a dedicated consumer and lover of the Hipgnosis album sleeve.\\n“I am full of admiration for the thoughts that go into making these album sleeves.', \"Momofuku Ando, who invented ramen instant noodles, has become an unlikely hero to foodies everywhere.\\nIn a 2000 poll, Japanese respondents said instant ramen was the country's top invention of the 20th century.\\nHow Momofuku Ando invented instant ramen in his 40sThe noodles were instant, but Ando's success wasn'tMomofuku Ando was born as Wu Baifu in Taiwan in 1910, and after World War II he emigrated to Japan and took his new name.\\nRegardless of how altruistic instant noodles were, the story remains inspiring.\\nInstant noodles took off, and competitors like Maruchan built off the innovation.\", 'I believe it’s equally important that we are aware of the number of plastic particles present in our food.\\n“For my baby, I was unable to completely avoid the use of plastic,” Hussain said.\\n“But I was able to avoid those (scenarios) which were causing more of the release of micro- and nanoplastics.\\n“We need to find the polymers which release fewer (particles),” Hussain said.\\n“Probably, researchers will be able to develop plastics that do not release any micro- or nanoplastics — or, if they do, the release would be negligible.', '1998 mathematics book by Aigner and ZieglerProofs from THE BOOK is a book of mathematical proofs by Martin Aigner and Günter M. Ziegler.\\nThe book is dedicated to the mathematician Paul Erdős, who often referred to \"The Book\" in which God keeps the most elegant proof of each mathematical theorem.\\nDuring a lecture in 1985, Erdős said, \"You don\\'t have to believe in God, but you should believe in The Book.\\n\"[1]Content [ edit ]Proofs from THE BOOK contains 32 sections (45 in the sixth edition), each devoted to one theorem but often containing multiple proofs and related results.\\nThe proofs include:References [ edit ]', \"One of the original specimen sheets of William Caslon, printed in London in 1741.\\nThe very first specimen book of the Fell types, printed at Oxford University Press in 1693, when J. S. Bach was only 8 years old.\\nThe English Roman and English Italic of the Fell types in the original 1693 specimen.\\nThe corresponding English Roman from the Caslon specimen, showing slightly less `picket fencing' because the strokes within individual letters are more uniform in weight.\\nIn the original specimen of the Fell types there is no protrusion (see specimen above).\", 'I’d ask faculty how they used computing in their work and what they wanted their students to know about computing.\\nShe had three specific things she wanted me to teach students.\\nShe wanted students to know that there are things called databases.\\nShe wanted students to have understanding about a set of technologies and ideas, and the students really didn’t need IP addresses and packets to understand them.\\nThe open HTML page block opens a browser window and renders the HTML into it.', 'Consider tipping me: https://github.com/sponsors/bartobriNo More SecretsThis project provides a command line tool called nms that recreates the famous data decryption effect seen on screen in the 1992 hacker movie Sneakers.\\nAlso included in this project is a program called sneakers that recreates what we see in the above movie clip.\\nTable of ContentsDownload and InstallMore and more Unix/Linux platforms are including this project in their package manager.\\nYou may wish to search your package manager to see if it is an installation option.\\n$ ls -l | nms $ ls -l | nms -a // Set auto-decrypt flag $ ls -l | nms -s // Set flag to mask space characters $ ls -l | nms -f green // Set foreground color to green $ ls -l | nms -c // Clear screen $ nms -v // Display versionNote that by default, after the initial encrypted characters are displayed, nms will wait for the user to press a key before initiating the decryption sequence.']\n"
          ]
        }
      ]
    },
    {
      "cell_type": "markdown",
      "source": [
        "# New section"
      ],
      "metadata": {
        "id": "svJHTqL8Ibou"
      }
    },
    {
      "cell_type": "code",
      "source": [
        "#making a merged list from two different lists list1 and list2\n",
        "\n",
        "list3 = [(list1[i],list2[i],ltext[i],summ[i]) for i in range(0,10)]\n",
        "print(list3)\n"
      ],
      "metadata": {
        "colab": {
          "base_uri": "https://localhost:8080/"
        },
        "id": "WfNdNK2G71jS",
        "outputId": "0275f918-4f08-435a-eff7-83230a73d0cd"
      },
      "execution_count": 66,
      "outputs": [
        {
          "output_type": "stream",
          "name": "stdout",
          "text": [
            "[('https://www.nature.com/articles/d41586-023-02374-2', 79, 'Dementia risk linked to blood-protein imbalance in middle age (nature.com)', 'Abnormal levels of certain proteins — many of which have roles outside the brain — could be an early hallmark of Alzheimer’s disease or similar conditions.\\nThey searched for any signs of dysregulation — when proteins are at levels much higher or lower than normal.\\nParticipants returned for examination six times over three decades, and during this time, around 1 in 5 of them developed dementia.\\nWalker says that although a person’s proteome by itself cannot predict their risk of getting dementia, it could perhaps bolster the strength of existing predictors — such as age and family history.\\nA handful were linked to proteostasis — the process of carefully balancing protein levels in the proteome.'), ('https://primocms.org', 104, 'Show HN: Primo – a visual CMS with Svelte blocks, a code editor, and SSG (primocms.org)', 'Primo is under full-time development and is in the process of becoming a nonprofit organization.\\nAny funds generated from White Glove and Cloud will go towards funding further development, in the same vein as Ghost CMS.'), ('https://andreabergia.com/blog/2023/07/i-have-written-a-jvm-in-rust/', 325, 'I have written a JVM in Rust (andreabergia.com)', 'I have written a JVM in Rust Published Wednesday, Jul 12, 2023 - 2164 words, 11 minutes Tagged:Lately I’ve been spending quite a bit of time learning Rust, and as any sane person would do, after writing a few 100 lines programs I’ve decided to take on something a little bit more ambitious: I have written a Java Virtual Machine in Rust.\\nI am very happy with what I have learned, about Rust and about how to implement a virtual machine.\\nAfter resolving the correct instruction, rjvm will add a new frame to the call stack and start the method’s execution.\\nThe method’s return value will be pushed to the stack unless it is void , and execution will resume.\\nI think it is a great language, as I have written before, and I have really enjoyed using it for implementing my JVM!'), ('https://home.cern/news/news/accelerators/accelerator-report-quench-lhc-inner-triplet-magnet-causes-small-leak-major', 152, 'Quench of LHC inner triplet magnet causes a small leak with major consequences (home.cern)', 'Approximately 300 milliseconds after the beams were cleanly dumped, several superconducting magnets around the LHC quenched – i.e.\\nAmong these magnets were the inner triplet magnets located to the left of Point 8 (LHCb), which play a crucial role in focusing the beams for the LHCb experiment.\\nIn this particular case, the electrical perturbation caused the quench protection system (QPS) to trigger the quench heaters of the magnets concerned.\\nThe cryostat containing the inner triplet magnets.\\nNevertheless, it is clear that an intervention with the inner triplet magnet at room temperature will be required.'), ('https://webcache.googleusercontent.com/search?q=cache:2T9NpG8thZgJ:https://community.fly.io/t/service-interruption-cant-destroy-machine-deploy-or-restart/14227&cd=9&hl=en&ct=clnk&gl=au', 696, 'Fly.io Postgres cluster down for 3 days, no word from them about it (googleusercontent.com)', 'Hey team, the health checks on our fly app were failing this morning and so I’ve logged in to diagnose this.\\nI can’t see an issue on the status page and not sure where else to look for resolution steps or ETA?\\nI’m unable to restart or destroy the stopped machine instances (it times out), and trying to re-deploy the app throws an error:Error: found 1 machines that are unmanaged.\\n`fly deploy` only updates machines with fly_platform_version=v2 in their metadata.\\nUse `fly machine list` to list machines and `fly machine update --metadata fly_platform_version=v2 <machine id>` to update individual machines with the metadata.'), ('https://nathanpeck.com/rethinking-infrastructure-as-code-from-scratch/', 35, 'Rethinking Infrastructure as Code from Scratch (nathanpeck.com)', 'Rethinking infrastructure as code from scratchRecently I’ve been thinking a lot about infrastructure complexity, and the current state of infrastructure as code.\\nRethinking infrastructure as code declarationsWhat if we rethought infrastructure as code from scratch, scrapped most of our current assumptions and “best practices” about how resources should be declaratively defined, and started from how we think about infrastructure in human terms?\\nEach scenario starts from a base infrastructure as code state and then attaches a set of mutations that modify or insert properties across your infrastructure as code resources.\\nHowever you will note that there is a missing piece here, and that is that this sample YAML approach works okay for attaching adjectives to an existing infrastructure as code resource, but it does not work well for attaching nouns to an existing infrastructure as code resource.\\nBut most of all we need to build Bootstrap or Tailwind for infrastructure as code: a standard library of reusable infrastructure as code property mutations that can be layered on to your infrastructure in a way that you want.'), ('item?id=36812981', 21, 'Show HN: A non-VC backed content creation and social media platform', 'Paper ClipsThe center of mass is where the paper plane balances from front to back.\\nIf the center of mass is too far forwards, the paper airplane will dive.\\nToo far back and it will rise and stall.\\nTry using a small paper clip, or staple, to adjust the center of mass to your liking.'), ('https://www.foldnfly.com/runway.php', 90, 'Paper Airplane Ideas and Tips (foldnfly.com)', 'One of the inconvenient facts of expertise is that experts can see more gradients of expertise than novices can.\\nNote that the vocab point isn’t mastery — it marks, I think, the beginning of advanced proficiency.\\nI talk about sports and music because it’s easier to observe the vocab point in those domains.\\nProblems with the Vocab PointI think one mistaken takeaway from this essay is that the vocab point is necessarily about articulation.\\nThis leads us to another potential failure mode of the vocab point: what if you’re noticing spurious nuance?'), ('https://commoncog.com/seeing-expertise-milestone-worth-aiming-for/', 143, 'Ability to see expertise is a milestone worth aiming for (2022) (commoncog.com)', 'Those who do will develop FTD, and they pass along that same 50 percent risk to each of their children.\\nIt’s a devastating feeling — that I may have passed something to them that could hurt them.”Even now, many in the family struggle with how to explain the impossible situation they’ve found themselves in.\\nOnce the researchers found the mutation, they encouraged each family member to test at an independent lab to learn who carried it.\\nEveryone in the family could discover which side of the coin flip they landed.\\nTurn the other, and you still have to say goodbye, slowly, to some of the people you love the most.'), ('http://www.zannzen.com/blog/small_joys_with_odin_1/', 54, 'Small Joys with Odin (zannzen.com)', 'Upgrade your Metabase installation IMMEDIATELY.\\nA recently discovered security vulnerability almost certainly affects you, and we recommend you upgrade your Metabase Installation right away.\\nUpgradingYou can download a .jar of the release, or get the latest on Docker.\\nMake sure to back up your Metabasedatabase before you upgrade!\\nDocker image: metabase/metabase:v0.46.6.1Download the JAR here: https://downloads.metabase.com/v0.46.6.1/metabase.jarNotesSHA-256 checksum for the v0.46.6.1 JAR:')]\n"
          ]
        }
      ]
    },
    {
      "cell_type": "code",
      "source": [
        "# getting top 10 upvotes  news articles\n",
        "\n",
        "# Initializing N\n",
        "N = 10\n",
        "\n",
        "# printing original list\n",
        "print(\"The original list is : \" + str(list3))\n",
        "\n",
        "# Get Top N elements from Records\n",
        "# Using sorted() + lambda\n",
        "res = sorted(list3, key = lambda x: x[1], reverse = True)[:N]\n",
        "\n",
        "# printing result\n",
        "print(\"The top N records are : \" + str(res))"
      ],
      "metadata": {
        "colab": {
          "base_uri": "https://localhost:8080/"
        },
        "id": "YzW8JMik8Grj",
        "outputId": "820d1e0f-e738-45f5-cfbb-ff923a774d97"
      },
      "execution_count": 67,
      "outputs": [
        {
          "output_type": "stream",
          "name": "stdout",
          "text": [
            "The original list is : [('https://www.nature.com/articles/d41586-023-02374-2', 79, 'Dementia risk linked to blood-protein imbalance in middle age (nature.com)', 'Abnormal levels of certain proteins — many of which have roles outside the brain — could be an early hallmark of Alzheimer’s disease or similar conditions.\\nThey searched for any signs of dysregulation — when proteins are at levels much higher or lower than normal.\\nParticipants returned for examination six times over three decades, and during this time, around 1 in 5 of them developed dementia.\\nWalker says that although a person’s proteome by itself cannot predict their risk of getting dementia, it could perhaps bolster the strength of existing predictors — such as age and family history.\\nA handful were linked to proteostasis — the process of carefully balancing protein levels in the proteome.'), ('https://primocms.org', 104, 'Show HN: Primo – a visual CMS with Svelte blocks, a code editor, and SSG (primocms.org)', 'Primo is under full-time development and is in the process of becoming a nonprofit organization.\\nAny funds generated from White Glove and Cloud will go towards funding further development, in the same vein as Ghost CMS.'), ('https://andreabergia.com/blog/2023/07/i-have-written-a-jvm-in-rust/', 325, 'I have written a JVM in Rust (andreabergia.com)', 'I have written a JVM in Rust Published Wednesday, Jul 12, 2023 - 2164 words, 11 minutes Tagged:Lately I’ve been spending quite a bit of time learning Rust, and as any sane person would do, after writing a few 100 lines programs I’ve decided to take on something a little bit more ambitious: I have written a Java Virtual Machine in Rust.\\nI am very happy with what I have learned, about Rust and about how to implement a virtual machine.\\nAfter resolving the correct instruction, rjvm will add a new frame to the call stack and start the method’s execution.\\nThe method’s return value will be pushed to the stack unless it is void , and execution will resume.\\nI think it is a great language, as I have written before, and I have really enjoyed using it for implementing my JVM!'), ('https://home.cern/news/news/accelerators/accelerator-report-quench-lhc-inner-triplet-magnet-causes-small-leak-major', 152, 'Quench of LHC inner triplet magnet causes a small leak with major consequences (home.cern)', 'Approximately 300 milliseconds after the beams were cleanly dumped, several superconducting magnets around the LHC quenched – i.e.\\nAmong these magnets were the inner triplet magnets located to the left of Point 8 (LHCb), which play a crucial role in focusing the beams for the LHCb experiment.\\nIn this particular case, the electrical perturbation caused the quench protection system (QPS) to trigger the quench heaters of the magnets concerned.\\nThe cryostat containing the inner triplet magnets.\\nNevertheless, it is clear that an intervention with the inner triplet magnet at room temperature will be required.'), ('https://webcache.googleusercontent.com/search?q=cache:2T9NpG8thZgJ:https://community.fly.io/t/service-interruption-cant-destroy-machine-deploy-or-restart/14227&cd=9&hl=en&ct=clnk&gl=au', 696, 'Fly.io Postgres cluster down for 3 days, no word from them about it (googleusercontent.com)', 'Hey team, the health checks on our fly app were failing this morning and so I’ve logged in to diagnose this.\\nI can’t see an issue on the status page and not sure where else to look for resolution steps or ETA?\\nI’m unable to restart or destroy the stopped machine instances (it times out), and trying to re-deploy the app throws an error:Error: found 1 machines that are unmanaged.\\n`fly deploy` only updates machines with fly_platform_version=v2 in their metadata.\\nUse `fly machine list` to list machines and `fly machine update --metadata fly_platform_version=v2 <machine id>` to update individual machines with the metadata.'), ('https://nathanpeck.com/rethinking-infrastructure-as-code-from-scratch/', 35, 'Rethinking Infrastructure as Code from Scratch (nathanpeck.com)', 'Rethinking infrastructure as code from scratchRecently I’ve been thinking a lot about infrastructure complexity, and the current state of infrastructure as code.\\nRethinking infrastructure as code declarationsWhat if we rethought infrastructure as code from scratch, scrapped most of our current assumptions and “best practices” about how resources should be declaratively defined, and started from how we think about infrastructure in human terms?\\nEach scenario starts from a base infrastructure as code state and then attaches a set of mutations that modify or insert properties across your infrastructure as code resources.\\nHowever you will note that there is a missing piece here, and that is that this sample YAML approach works okay for attaching adjectives to an existing infrastructure as code resource, but it does not work well for attaching nouns to an existing infrastructure as code resource.\\nBut most of all we need to build Bootstrap or Tailwind for infrastructure as code: a standard library of reusable infrastructure as code property mutations that can be layered on to your infrastructure in a way that you want.'), ('item?id=36812981', 21, 'Show HN: A non-VC backed content creation and social media platform', 'Paper ClipsThe center of mass is where the paper plane balances from front to back.\\nIf the center of mass is too far forwards, the paper airplane will dive.\\nToo far back and it will rise and stall.\\nTry using a small paper clip, or staple, to adjust the center of mass to your liking.'), ('https://www.foldnfly.com/runway.php', 90, 'Paper Airplane Ideas and Tips (foldnfly.com)', 'One of the inconvenient facts of expertise is that experts can see more gradients of expertise than novices can.\\nNote that the vocab point isn’t mastery — it marks, I think, the beginning of advanced proficiency.\\nI talk about sports and music because it’s easier to observe the vocab point in those domains.\\nProblems with the Vocab PointI think one mistaken takeaway from this essay is that the vocab point is necessarily about articulation.\\nThis leads us to another potential failure mode of the vocab point: what if you’re noticing spurious nuance?'), ('https://commoncog.com/seeing-expertise-milestone-worth-aiming-for/', 143, 'Ability to see expertise is a milestone worth aiming for (2022) (commoncog.com)', 'Those who do will develop FTD, and they pass along that same 50 percent risk to each of their children.\\nIt’s a devastating feeling — that I may have passed something to them that could hurt them.”Even now, many in the family struggle with how to explain the impossible situation they’ve found themselves in.\\nOnce the researchers found the mutation, they encouraged each family member to test at an independent lab to learn who carried it.\\nEveryone in the family could discover which side of the coin flip they landed.\\nTurn the other, and you still have to say goodbye, slowly, to some of the people you love the most.'), ('http://www.zannzen.com/blog/small_joys_with_odin_1/', 54, 'Small Joys with Odin (zannzen.com)', 'Upgrade your Metabase installation IMMEDIATELY.\\nA recently discovered security vulnerability almost certainly affects you, and we recommend you upgrade your Metabase Installation right away.\\nUpgradingYou can download a .jar of the release, or get the latest on Docker.\\nMake sure to back up your Metabasedatabase before you upgrade!\\nDocker image: metabase/metabase:v0.46.6.1Download the JAR here: https://downloads.metabase.com/v0.46.6.1/metabase.jarNotesSHA-256 checksum for the v0.46.6.1 JAR:')]\n",
            "The top N records are : [('https://webcache.googleusercontent.com/search?q=cache:2T9NpG8thZgJ:https://community.fly.io/t/service-interruption-cant-destroy-machine-deploy-or-restart/14227&cd=9&hl=en&ct=clnk&gl=au', 696, 'Fly.io Postgres cluster down for 3 days, no word from them about it (googleusercontent.com)', 'Hey team, the health checks on our fly app were failing this morning and so I’ve logged in to diagnose this.\\nI can’t see an issue on the status page and not sure where else to look for resolution steps or ETA?\\nI’m unable to restart or destroy the stopped machine instances (it times out), and trying to re-deploy the app throws an error:Error: found 1 machines that are unmanaged.\\n`fly deploy` only updates machines with fly_platform_version=v2 in their metadata.\\nUse `fly machine list` to list machines and `fly machine update --metadata fly_platform_version=v2 <machine id>` to update individual machines with the metadata.'), ('https://andreabergia.com/blog/2023/07/i-have-written-a-jvm-in-rust/', 325, 'I have written a JVM in Rust (andreabergia.com)', 'I have written a JVM in Rust Published Wednesday, Jul 12, 2023 - 2164 words, 11 minutes Tagged:Lately I’ve been spending quite a bit of time learning Rust, and as any sane person would do, after writing a few 100 lines programs I’ve decided to take on something a little bit more ambitious: I have written a Java Virtual Machine in Rust.\\nI am very happy with what I have learned, about Rust and about how to implement a virtual machine.\\nAfter resolving the correct instruction, rjvm will add a new frame to the call stack and start the method’s execution.\\nThe method’s return value will be pushed to the stack unless it is void , and execution will resume.\\nI think it is a great language, as I have written before, and I have really enjoyed using it for implementing my JVM!'), ('https://home.cern/news/news/accelerators/accelerator-report-quench-lhc-inner-triplet-magnet-causes-small-leak-major', 152, 'Quench of LHC inner triplet magnet causes a small leak with major consequences (home.cern)', 'Approximately 300 milliseconds after the beams were cleanly dumped, several superconducting magnets around the LHC quenched – i.e.\\nAmong these magnets were the inner triplet magnets located to the left of Point 8 (LHCb), which play a crucial role in focusing the beams for the LHCb experiment.\\nIn this particular case, the electrical perturbation caused the quench protection system (QPS) to trigger the quench heaters of the magnets concerned.\\nThe cryostat containing the inner triplet magnets.\\nNevertheless, it is clear that an intervention with the inner triplet magnet at room temperature will be required.'), ('https://commoncog.com/seeing-expertise-milestone-worth-aiming-for/', 143, 'Ability to see expertise is a milestone worth aiming for (2022) (commoncog.com)', 'Those who do will develop FTD, and they pass along that same 50 percent risk to each of their children.\\nIt’s a devastating feeling — that I may have passed something to them that could hurt them.”Even now, many in the family struggle with how to explain the impossible situation they’ve found themselves in.\\nOnce the researchers found the mutation, they encouraged each family member to test at an independent lab to learn who carried it.\\nEveryone in the family could discover which side of the coin flip they landed.\\nTurn the other, and you still have to say goodbye, slowly, to some of the people you love the most.'), ('https://primocms.org', 104, 'Show HN: Primo – a visual CMS with Svelte blocks, a code editor, and SSG (primocms.org)', 'Primo is under full-time development and is in the process of becoming a nonprofit organization.\\nAny funds generated from White Glove and Cloud will go towards funding further development, in the same vein as Ghost CMS.'), ('https://www.foldnfly.com/runway.php', 90, 'Paper Airplane Ideas and Tips (foldnfly.com)', 'One of the inconvenient facts of expertise is that experts can see more gradients of expertise than novices can.\\nNote that the vocab point isn’t mastery — it marks, I think, the beginning of advanced proficiency.\\nI talk about sports and music because it’s easier to observe the vocab point in those domains.\\nProblems with the Vocab PointI think one mistaken takeaway from this essay is that the vocab point is necessarily about articulation.\\nThis leads us to another potential failure mode of the vocab point: what if you’re noticing spurious nuance?'), ('https://www.nature.com/articles/d41586-023-02374-2', 79, 'Dementia risk linked to blood-protein imbalance in middle age (nature.com)', 'Abnormal levels of certain proteins — many of which have roles outside the brain — could be an early hallmark of Alzheimer’s disease or similar conditions.\\nThey searched for any signs of dysregulation — when proteins are at levels much higher or lower than normal.\\nParticipants returned for examination six times over three decades, and during this time, around 1 in 5 of them developed dementia.\\nWalker says that although a person’s proteome by itself cannot predict their risk of getting dementia, it could perhaps bolster the strength of existing predictors — such as age and family history.\\nA handful were linked to proteostasis — the process of carefully balancing protein levels in the proteome.'), ('http://www.zannzen.com/blog/small_joys_with_odin_1/', 54, 'Small Joys with Odin (zannzen.com)', 'Upgrade your Metabase installation IMMEDIATELY.\\nA recently discovered security vulnerability almost certainly affects you, and we recommend you upgrade your Metabase Installation right away.\\nUpgradingYou can download a .jar of the release, or get the latest on Docker.\\nMake sure to back up your Metabasedatabase before you upgrade!\\nDocker image: metabase/metabase:v0.46.6.1Download the JAR here: https://downloads.metabase.com/v0.46.6.1/metabase.jarNotesSHA-256 checksum for the v0.46.6.1 JAR:'), ('https://nathanpeck.com/rethinking-infrastructure-as-code-from-scratch/', 35, 'Rethinking Infrastructure as Code from Scratch (nathanpeck.com)', 'Rethinking infrastructure as code from scratchRecently I’ve been thinking a lot about infrastructure complexity, and the current state of infrastructure as code.\\nRethinking infrastructure as code declarationsWhat if we rethought infrastructure as code from scratch, scrapped most of our current assumptions and “best practices” about how resources should be declaratively defined, and started from how we think about infrastructure in human terms?\\nEach scenario starts from a base infrastructure as code state and then attaches a set of mutations that modify or insert properties across your infrastructure as code resources.\\nHowever you will note that there is a missing piece here, and that is that this sample YAML approach works okay for attaching adjectives to an existing infrastructure as code resource, but it does not work well for attaching nouns to an existing infrastructure as code resource.\\nBut most of all we need to build Bootstrap or Tailwind for infrastructure as code: a standard library of reusable infrastructure as code property mutations that can be layered on to your infrastructure in a way that you want.'), ('item?id=36812981', 21, 'Show HN: A non-VC backed content creation and social media platform', 'Paper ClipsThe center of mass is where the paper plane balances from front to back.\\nIf the center of mass is too far forwards, the paper airplane will dive.\\nToo far back and it will rise and stall.\\nTry using a small paper clip, or staple, to adjust the center of mass to your liking.')]\n"
          ]
        }
      ]
    },
    {
      "cell_type": "code",
      "source": [
        "# Making a CSV file from a list of tuples (res)\n",
        "\n",
        "import csv\n",
        "with open('Top10Upvotes.csv','w') as out:\n",
        "    csv_out = csv.writer(out)\n",
        "    csv_out.writerow (['Link','Upvotes','Title','Summary'])\n",
        "    for row in res:\n",
        "        csv_out.writerow(row)\n"
      ],
      "metadata": {
        "id": "paWjskS4ARHz"
      },
      "execution_count": 68,
      "outputs": []
    },
    {
      "cell_type": "code",
      "source": [
        "import pandas as pd\n",
        "df = pd.read_csv('Top10Upvotes.csv')\n",
        "\n",
        "print(df.shape)\n",
        "print(df)"
      ],
      "metadata": {
        "colab": {
          "base_uri": "https://localhost:8080/"
        },
        "id": "kn3LI6mOB0jD",
        "outputId": "61a350fe-5655-430a-f62e-c74b4c2e395e"
      },
      "execution_count": 69,
      "outputs": [
        {
          "output_type": "stream",
          "name": "stdout",
          "text": [
            "(10, 4)\n",
            "                                                Link  Upvotes  \\\n",
            "0  https://webcache.googleusercontent.com/search?...      696   \n",
            "1  https://andreabergia.com/blog/2023/07/i-have-w...      325   \n",
            "2  https://home.cern/news/news/accelerators/accel...      152   \n",
            "3  https://commoncog.com/seeing-expertise-milesto...      143   \n",
            "4                               https://primocms.org      104   \n",
            "5                https://www.foldnfly.com/runway.php       90   \n",
            "6  https://www.nature.com/articles/d41586-023-023...       79   \n",
            "7  http://www.zannzen.com/blog/small_joys_with_od...       54   \n",
            "8  https://nathanpeck.com/rethinking-infrastructu...       35   \n",
            "9                                   item?id=36812981       21   \n",
            "\n",
            "                                               Title  \\\n",
            "0  Fly.io Postgres cluster down for 3 days, no wo...   \n",
            "1    I have written a JVM in Rust (andreabergia.com)   \n",
            "2  Quench of LHC inner triplet magnet causes a sm...   \n",
            "3  Ability to see expertise is a milestone worth ...   \n",
            "4  Show HN: Primo – a visual CMS with Svelte bloc...   \n",
            "5       Paper Airplane Ideas and Tips (foldnfly.com)   \n",
            "6  Dementia risk linked to blood-protein imbalanc...   \n",
            "7                 Small Joys with Odin (zannzen.com)   \n",
            "8  Rethinking Infrastructure as Code from Scratch...   \n",
            "9  Show HN: A non-VC backed content creation and ...   \n",
            "\n",
            "                                             Summary  \n",
            "0  Hey team, the health checks on our fly app wer...  \n",
            "1  I have written a JVM in Rust Published Wednesd...  \n",
            "2  Approximately 300 milliseconds after the beams...  \n",
            "3  Those who do will develop FTD, and they pass a...  \n",
            "4  Primo is under full-time development and is in...  \n",
            "5  One of the inconvenient facts of expertise is ...  \n",
            "6  Abnormal levels of certain proteins — many of ...  \n",
            "7  Upgrade your Metabase installation IMMEDIATELY...  \n",
            "8  Rethinking infrastructure as code from scratch...  \n",
            "9  Paper ClipsThe center of mass is where the pap...  \n"
          ]
        }
      ]
    }
  ]
}